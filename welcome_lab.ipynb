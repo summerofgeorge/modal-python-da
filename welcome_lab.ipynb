{
 "cells": [
  {
   "cell_type": "markdown",
   "id": "76edff24",
   "metadata": {},
   "source": [
    "### Fairweather Cyclist\n",
    "\n",
    "We've provided you with a dataset of bikeshare usage alongside weather data. All bikers are categorized as either \"registered\" or \"casual\". **How does the weather impact the number of bikes that are rented? Are different types of bikers impacted differently?**\n",
    "\n",
    "When ordered correctly, the code below will help you answer this question! Can you find the correct order? \n",
    "\n",
    "You can move a cell up or down by clicking on it, then pressing the up or down arrows in the menu bar at the top of this page. You'll know you've solved the puzzle if you go to the \"Kernel\" menu above, press \"Restart and Run All\" and the code runs with no errors! There are multiple solutions! \n",
    "\n",
    "_Note that the code chunk where we \"Import the pandas and matplotlib libraries\" takes 5-10 seconds to run the first time and will output a red warning indicating that it may take a few seconds. This is not an error._\n",
    "\n",
    "Once you have completed the Fairweather Cyclist jigsaw challenge, consider and discuss in your groups:\n",
    "- Do the findings make sense to you?\n",
    "- There are a few different configurations that work - share your thinking with your group! \n",
    "- What other questions would you like to investigate using these data? \n",
    "\n",
    "Once you get all the cells running without error, here are some extension challenges / ideas for fun: \n",
    "- Change the call from `sns.boxplot()` to call: `violinplot` or `swarmplot`\n",
    "- In your `sns` visualization, change the `y` axis from `total_bikers` to `casual` or `registered`\n",
    "- In your `sns` visualization, change the `x` and `y` axes "
   ]
  },
  {
   "cell_type": "code",
   "execution_count": 28,
   "id": "5adec511",
   "metadata": {},
   "outputs": [
    {
     "data": {
      "text/html": [
       "<div>\n",
       "<style scoped>\n",
       "    .dataframe tbody tr th:only-of-type {\n",
       "        vertical-align: middle;\n",
       "    }\n",
       "\n",
       "    .dataframe tbody tr th {\n",
       "        vertical-align: top;\n",
       "    }\n",
       "\n",
       "    .dataframe thead th {\n",
       "        text-align: right;\n",
       "    }\n",
       "</style>\n",
       "<table border=\"1\" class=\"dataframe\">\n",
       "  <thead>\n",
       "    <tr style=\"text-align: right;\">\n",
       "      <th></th>\n",
       "      <th>dteday</th>\n",
       "      <th>weathersit</th>\n",
       "      <th>temp</th>\n",
       "      <th>casual</th>\n",
       "      <th>registered</th>\n",
       "    </tr>\n",
       "  </thead>\n",
       "  <tbody>\n",
       "    <tr>\n",
       "      <th>0</th>\n",
       "      <td>2011-01-01</td>\n",
       "      <td>clouds or mist</td>\n",
       "      <td>8.18</td>\n",
       "      <td>331</td>\n",
       "      <td>654</td>\n",
       "    </tr>\n",
       "    <tr>\n",
       "      <th>1</th>\n",
       "      <td>2011-01-02</td>\n",
       "      <td>clouds or mist</td>\n",
       "      <td>9.08</td>\n",
       "      <td>131</td>\n",
       "      <td>670</td>\n",
       "    </tr>\n",
       "    <tr>\n",
       "      <th>2</th>\n",
       "      <td>2011-01-03</td>\n",
       "      <td>mostly clear</td>\n",
       "      <td>1.23</td>\n",
       "      <td>120</td>\n",
       "      <td>1229</td>\n",
       "    </tr>\n",
       "    <tr>\n",
       "      <th>3</th>\n",
       "      <td>2011-01-04</td>\n",
       "      <td>mostly clear</td>\n",
       "      <td>1.40</td>\n",
       "      <td>108</td>\n",
       "      <td>1454</td>\n",
       "    </tr>\n",
       "    <tr>\n",
       "      <th>4</th>\n",
       "      <td>2011-01-05</td>\n",
       "      <td>mostly clear</td>\n",
       "      <td>2.67</td>\n",
       "      <td>82</td>\n",
       "      <td>1518</td>\n",
       "    </tr>\n",
       "  </tbody>\n",
       "</table>\n",
       "</div>"
      ],
      "text/plain": [
       "       dteday      weathersit  temp  casual  registered\n",
       "0  2011-01-01  clouds or mist  8.18     331         654\n",
       "1  2011-01-02  clouds or mist  9.08     131         670\n",
       "2  2011-01-03    mostly clear  1.23     120        1229\n",
       "3  2011-01-04    mostly clear  1.40     108        1454\n",
       "4  2011-01-05    mostly clear  2.67      82        1518"
      ]
     },
     "execution_count": 28,
     "metadata": {},
     "output_type": "execute_result"
    }
   ],
   "source": [
    "# Load the data as a pandas DataFrame\n",
    "bikes = pd.read_csv('bike_data.csv')\n",
    "bikes.head()"
   ]
  },
  {
   "cell_type": "code",
   "execution_count": 69,
   "id": "4a155d5a",
   "metadata": {
    "scrolled": false
   },
   "outputs": [
    {
     "data": {
      "image/png": "[encoded data removed]",
      "text/plain": [
       "<Figure size 432x288 with 1 Axes>"
      ]
     },
     "metadata": {
      "needs_background": "light"
     },
     "output_type": "display_data"
    }
   ],
   "source": [
    "plt.scatter(x='temp', y='casual',data=bikes,label='casual')\n",
    "plt.scatter(x='temp', y='registered',data=bikes,label='registered')\n",
    "plt.legend()\n",
    "plt.show()"
   ]
  },
  {
   "cell_type": "code",
   "execution_count": 2,
   "id": "86be9bd2",
   "metadata": {},
   "outputs": [],
   "source": [
    "# Import the pandas and matplotlib libraries\n",
    "import pandas as pd\n",
    "import matplotlib.pyplot as plt\n",
    "import seaborn as sns"
   ]
  },
  {
   "cell_type": "code",
   "execution_count": 75,
   "id": "ea0238a0",
   "metadata": {
    "scrolled": false
   },
   "outputs": [
    {
     "data": {
      "image/png": "[encoded data removed]",
      "text/plain": [
       "<Figure size 432x288 with 1 Axes>"
      ]
     },
     "metadata": {
      "needs_background": "light"
     },
     "output_type": "display_data"
    }
   ],
   "source": [
    "# \n",
    "sns.boxplot(x='weathersit', y='total_bikers', data=bikes)\n",
    "\n",
    "plt.show()"
   ]
  },
  {
   "cell_type": "code",
   "execution_count": 7,
   "id": "f71e3e22",
   "metadata": {},
   "outputs": [
    {
     "data": {
      "text/html": [
       "<div>\n",
       "<style scoped>\n",
       "    .dataframe tbody tr th:only-of-type {\n",
       "        vertical-align: middle;\n",
       "    }\n",
       "\n",
       "    .dataframe tbody tr th {\n",
       "        vertical-align: top;\n",
       "    }\n",
       "\n",
       "    .dataframe thead th {\n",
       "        text-align: right;\n",
       "    }\n",
       "</style>\n",
       "<table border=\"1\" class=\"dataframe\">\n",
       "  <thead>\n",
       "    <tr style=\"text-align: right;\">\n",
       "      <th></th>\n",
       "      <th>avg number of bikers</th>\n",
       "    </tr>\n",
       "    <tr>\n",
       "      <th>weathersit</th>\n",
       "      <th></th>\n",
       "    </tr>\n",
       "  </thead>\n",
       "  <tbody>\n",
       "    <tr>\n",
       "      <th>clouds or mist</th>\n",
       "      <td>3088.096774</td>\n",
       "    </tr>\n",
       "    <tr>\n",
       "      <th>light rain or snow</th>\n",
       "      <td>1674.133333</td>\n",
       "    </tr>\n",
       "    <tr>\n",
       "      <th>mostly clear</th>\n",
       "      <td>3694.986726</td>\n",
       "    </tr>\n",
       "  </tbody>\n",
       "</table>\n",
       "</div>"
      ],
      "text/plain": [
       "                    avg number of bikers\n",
       "weathersit                              \n",
       "clouds or mist               3088.096774\n",
       "light rain or snow           1674.133333\n",
       "mostly clear                 3694.986726"
      ]
     },
     "execution_count": 7,
     "metadata": {},
     "output_type": "execute_result"
    }
   ],
   "source": [
    "# Create a dataframe of the average number of bikers per day for each weather type\n",
    "avg_cnt_by_weather = bikes.groupby('weathersit').mean()['total_bikers']\n",
    "avg_cnt_by_weather = pd.DataFrame(avg_cnt_by_weather)\n",
    "avg_cnt_by_weather.columns = ['avg number of bikers']\n",
    "avg_cnt_by_weather"
   ]
  },
  {
   "cell_type": "code",
   "execution_count": 31,
   "id": "3582a967",
   "metadata": {
    "scrolled": false
   },
   "outputs": [
    {
     "data": {
      "text/html": [
       "<div>\n",
       "<style scoped>\n",
       "    .dataframe tbody tr th:only-of-type {\n",
       "        vertical-align: middle;\n",
       "    }\n",
       "\n",
       "    .dataframe tbody tr th {\n",
       "        vertical-align: top;\n",
       "    }\n",
       "\n",
       "    .dataframe thead th {\n",
       "        text-align: right;\n",
       "    }\n",
       "</style>\n",
       "<table border=\"1\" class=\"dataframe\">\n",
       "  <thead>\n",
       "    <tr style=\"text-align: right;\">\n",
       "      <th></th>\n",
       "      <th>dteday</th>\n",
       "      <th>weathersit</th>\n",
       "      <th>temp</th>\n",
       "      <th>casual</th>\n",
       "      <th>registered</th>\n",
       "      <th>total_bikers</th>\n",
       "    </tr>\n",
       "  </thead>\n",
       "  <tbody>\n",
       "    <tr>\n",
       "      <th>0</th>\n",
       "      <td>2011-01-01</td>\n",
       "      <td>clouds or mist</td>\n",
       "      <td>8.18</td>\n",
       "      <td>331</td>\n",
       "      <td>654</td>\n",
       "      <td>985</td>\n",
       "    </tr>\n",
       "    <tr>\n",
       "      <th>1</th>\n",
       "      <td>2011-01-02</td>\n",
       "      <td>clouds or mist</td>\n",
       "      <td>9.08</td>\n",
       "      <td>131</td>\n",
       "      <td>670</td>\n",
       "      <td>801</td>\n",
       "    </tr>\n",
       "    <tr>\n",
       "      <th>2</th>\n",
       "      <td>2011-01-03</td>\n",
       "      <td>mostly clear</td>\n",
       "      <td>1.23</td>\n",
       "      <td>120</td>\n",
       "      <td>1229</td>\n",
       "      <td>1349</td>\n",
       "    </tr>\n",
       "    <tr>\n",
       "      <th>3</th>\n",
       "      <td>2011-01-04</td>\n",
       "      <td>mostly clear</td>\n",
       "      <td>1.40</td>\n",
       "      <td>108</td>\n",
       "      <td>1454</td>\n",
       "      <td>1562</td>\n",
       "    </tr>\n",
       "    <tr>\n",
       "      <th>4</th>\n",
       "      <td>2011-01-05</td>\n",
       "      <td>mostly clear</td>\n",
       "      <td>2.67</td>\n",
       "      <td>82</td>\n",
       "      <td>1518</td>\n",
       "      <td>1600</td>\n",
       "    </tr>\n",
       "  </tbody>\n",
       "</table>\n",
       "</div>"
      ],
      "text/plain": [
       "       dteday      weathersit  temp  casual  registered  total_bikers\n",
       "0  2011-01-01  clouds or mist  8.18     331         654           985\n",
       "1  2011-01-02  clouds or mist  9.08     131         670           801\n",
       "2  2011-01-03    mostly clear  1.23     120        1229          1349\n",
       "3  2011-01-04    mostly clear  1.40     108        1454          1562\n",
       "4  2011-01-05    mostly clear  2.67      82        1518          1600"
      ]
     },
     "execution_count": 31,
     "metadata": {},
     "output_type": "execute_result"
    }
   ],
   "source": [
    "# Calculate the total number of bikers and save it as a new column\n",
    "bikes['total_bikers'] = bikes['casual'] + bikes['registered']\n",
    "bikes.head()"
   ]
  }
 ],
 "metadata": {
  "kernelspec": {
   "display_name": "Python 3 (ipykernel)",
   "language": "python",
   "name": "python3"
  },
  "language_info": {
   "codemirror_mode": {
    "name": "ipython",
    "version": 3
   },
   "file_extension": ".py",
   "mimetype": "text/x-python",
   "name": "python",
   "nbconvert_exporter": "python",
   "pygments_lexer": "ipython3",
   "version": "3.10.0"
  }
 },
 "nbformat": 4,
 "nbformat_minor": 5
}
